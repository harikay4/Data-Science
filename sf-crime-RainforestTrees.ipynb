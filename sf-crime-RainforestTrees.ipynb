{
 "cells": [
  {
   "cell_type": "code",
   "execution_count": 1,
   "metadata": {},
   "outputs": [],
   "source": [
    "import seaborn as sns\n",
    "import matplotlib.pyplot as plt\n",
    "import pandas as pd\n",
    "import numpy as np"
   ]
  },
  {
   "cell_type": "code",
   "execution_count": 2,
   "metadata": {},
   "outputs": [],
   "source": [
    "train_df = pd.read_csv('/kaggle/input/sf-crime/train.csv.zip', parse_dates=['Dates'])\n",
    "test_df = pd.read_csv('/kaggle/input/sf-crime/train.csv.zip', parse_dates=['Dates'])"
   ]
  },
  {
   "cell_type": "code",
   "execution_count": 3,
   "metadata": {},
   "outputs": [
    {
     "data": {
      "text/html": [
       "<div>\n",
       "<style scoped>\n",
       "    .dataframe tbody tr th:only-of-type {\n",
       "        vertical-align: middle;\n",
       "    }\n",
       "\n",
       "    .dataframe tbody tr th {\n",
       "        vertical-align: top;\n",
       "    }\n",
       "\n",
       "    .dataframe thead th {\n",
       "        text-align: right;\n",
       "    }\n",
       "</style>\n",
       "<table border=\"1\" class=\"dataframe\">\n",
       "  <thead>\n",
       "    <tr style=\"text-align: right;\">\n",
       "      <th></th>\n",
       "      <th>Dates</th>\n",
       "      <th>Category</th>\n",
       "      <th>Descript</th>\n",
       "      <th>DayOfWeek</th>\n",
       "      <th>PdDistrict</th>\n",
       "      <th>Resolution</th>\n",
       "      <th>Address</th>\n",
       "      <th>X</th>\n",
       "      <th>Y</th>\n",
       "    </tr>\n",
       "  </thead>\n",
       "  <tbody>\n",
       "    <tr>\n",
       "      <th>576046</th>\n",
       "      <td>2007-03-22 05:30:00</td>\n",
       "      <td>ROBBERY</td>\n",
       "      <td>ROBBERY, BODILY FORCE</td>\n",
       "      <td>Thursday</td>\n",
       "      <td>CENTRAL</td>\n",
       "      <td>ARREST, BOOKED</td>\n",
       "      <td>BUSH ST / MASON ST</td>\n",
       "      <td>-122.410437</td>\n",
       "      <td>37.789950</td>\n",
       "    </tr>\n",
       "    <tr>\n",
       "      <th>553017</th>\n",
       "      <td>2007-07-25 13:00:00</td>\n",
       "      <td>NON-CRIMINAL</td>\n",
       "      <td>FOUND PROPERTY</td>\n",
       "      <td>Wednesday</td>\n",
       "      <td>CENTRAL</td>\n",
       "      <td>UNFOUNDED</td>\n",
       "      <td>1600 Block of THE EMBARCADERONORTH ST</td>\n",
       "      <td>-122.410774</td>\n",
       "      <td>37.808435</td>\n",
       "    </tr>\n",
       "    <tr>\n",
       "      <th>330212</th>\n",
       "      <td>2010-10-20 08:00:00</td>\n",
       "      <td>VANDALISM</td>\n",
       "      <td>MALICIOUS MISCHIEF, VANDALISM</td>\n",
       "      <td>Wednesday</td>\n",
       "      <td>TARAVAL</td>\n",
       "      <td>NONE</td>\n",
       "      <td>3200 Block of 20TH AV</td>\n",
       "      <td>-122.475647</td>\n",
       "      <td>37.728528</td>\n",
       "    </tr>\n",
       "    <tr>\n",
       "      <th>796159</th>\n",
       "      <td>2004-02-06 21:25:00</td>\n",
       "      <td>OTHER OFFENSES</td>\n",
       "      <td>DRIVERS LICENSE, SUSPENDED OR REVOKED</td>\n",
       "      <td>Friday</td>\n",
       "      <td>BAYVIEW</td>\n",
       "      <td>ARREST, CITED</td>\n",
       "      <td>HOLLISTER AV / INGALLS ST</td>\n",
       "      <td>-122.392421</td>\n",
       "      <td>37.719741</td>\n",
       "    </tr>\n",
       "    <tr>\n",
       "      <th>767937</th>\n",
       "      <td>2004-06-22 22:00:00</td>\n",
       "      <td>LARCENY/THEFT</td>\n",
       "      <td>GRAND THEFT FROM LOCKED AUTO</td>\n",
       "      <td>Tuesday</td>\n",
       "      <td>NORTHERN</td>\n",
       "      <td>NONE</td>\n",
       "      <td>FILLMORE ST / FELL ST</td>\n",
       "      <td>-122.431014</td>\n",
       "      <td>37.774902</td>\n",
       "    </tr>\n",
       "  </tbody>\n",
       "</table>\n",
       "</div>"
      ],
      "text/plain": [
       "                     Dates        Category  \\\n",
       "576046 2007-03-22 05:30:00         ROBBERY   \n",
       "553017 2007-07-25 13:00:00    NON-CRIMINAL   \n",
       "330212 2010-10-20 08:00:00       VANDALISM   \n",
       "796159 2004-02-06 21:25:00  OTHER OFFENSES   \n",
       "767937 2004-06-22 22:00:00   LARCENY/THEFT   \n",
       "\n",
       "                                     Descript  DayOfWeek PdDistrict  \\\n",
       "576046                  ROBBERY, BODILY FORCE   Thursday    CENTRAL   \n",
       "553017                         FOUND PROPERTY  Wednesday    CENTRAL   \n",
       "330212          MALICIOUS MISCHIEF, VANDALISM  Wednesday    TARAVAL   \n",
       "796159  DRIVERS LICENSE, SUSPENDED OR REVOKED     Friday    BAYVIEW   \n",
       "767937           GRAND THEFT FROM LOCKED AUTO    Tuesday   NORTHERN   \n",
       "\n",
       "            Resolution                                Address           X  \\\n",
       "576046  ARREST, BOOKED                     BUSH ST / MASON ST -122.410437   \n",
       "553017       UNFOUNDED  1600 Block of THE EMBARCADERONORTH ST -122.410774   \n",
       "330212            NONE                  3200 Block of 20TH AV -122.475647   \n",
       "796159   ARREST, CITED              HOLLISTER AV / INGALLS ST -122.392421   \n",
       "767937            NONE                  FILLMORE ST / FELL ST -122.431014   \n",
       "\n",
       "                Y  \n",
       "576046  37.789950  \n",
       "553017  37.808435  \n",
       "330212  37.728528  \n",
       "796159  37.719741  \n",
       "767937  37.774902  "
      ]
     },
     "execution_count": 3,
     "metadata": {},
     "output_type": "execute_result"
    }
   ],
   "source": [
    "train_df.sample(5)"
   ]
  },
  {
   "cell_type": "code",
   "execution_count": 4,
   "metadata": {},
   "outputs": [
    {
     "data": {
      "text/html": [
       "<div>\n",
       "<style scoped>\n",
       "    .dataframe tbody tr th:only-of-type {\n",
       "        vertical-align: middle;\n",
       "    }\n",
       "\n",
       "    .dataframe tbody tr th {\n",
       "        vertical-align: top;\n",
       "    }\n",
       "\n",
       "    .dataframe thead th {\n",
       "        text-align: right;\n",
       "    }\n",
       "</style>\n",
       "<table border=\"1\" class=\"dataframe\">\n",
       "  <thead>\n",
       "    <tr style=\"text-align: right;\">\n",
       "      <th></th>\n",
       "      <th>Dates</th>\n",
       "      <th>Category</th>\n",
       "      <th>Descript</th>\n",
       "      <th>DayOfWeek</th>\n",
       "      <th>PdDistrict</th>\n",
       "      <th>Resolution</th>\n",
       "      <th>Address</th>\n",
       "      <th>X</th>\n",
       "      <th>Y</th>\n",
       "    </tr>\n",
       "  </thead>\n",
       "  <tbody>\n",
       "    <tr>\n",
       "      <th>125659</th>\n",
       "      <td>2013-09-07 23:00:00</td>\n",
       "      <td>ASSAULT</td>\n",
       "      <td>AGGRAVATED ASSAULT WITH A KNIFE</td>\n",
       "      <td>Saturday</td>\n",
       "      <td>PARK</td>\n",
       "      <td>ARREST, BOOKED</td>\n",
       "      <td>1700 Block of MCALLISTER ST</td>\n",
       "      <td>-122.44088</td>\n",
       "      <td>37.777532</td>\n",
       "    </tr>\n",
       "  </tbody>\n",
       "</table>\n",
       "</div>"
      ],
      "text/plain": [
       "                     Dates Category                         Descript  \\\n",
       "125659 2013-09-07 23:00:00  ASSAULT  AGGRAVATED ASSAULT WITH A KNIFE   \n",
       "\n",
       "       DayOfWeek PdDistrict      Resolution                      Address  \\\n",
       "125659  Saturday       PARK  ARREST, BOOKED  1700 Block of MCALLISTER ST   \n",
       "\n",
       "                X          Y  \n",
       "125659 -122.44088  37.777532  "
      ]
     },
     "execution_count": 4,
     "metadata": {},
     "output_type": "execute_result"
    }
   ],
   "source": [
    "test_df.sample(1)"
   ]
  },
  {
   "cell_type": "code",
   "execution_count": 5,
   "metadata": {},
   "outputs": [
    {
     "name": "stdout",
     "output_type": "stream",
     "text": [
      "Number of Categories:  39\n",
      "Number of PdDistricts:  10\n",
      "Number of DayOfWeeks:  7\n",
      "_________________________________________________\n",
      "<class 'pandas.core.frame.DataFrame'>\n",
      "RangeIndex: 878049 entries, 0 to 878048\n",
      "Data columns (total 9 columns):\n",
      "Dates         878049 non-null datetime64[ns]\n",
      "Category      878049 non-null object\n",
      "Descript      878049 non-null object\n",
      "DayOfWeek     878049 non-null object\n",
      "PdDistrict    878049 non-null object\n",
      "Resolution    878049 non-null object\n",
      "Address       878049 non-null object\n",
      "X             878049 non-null float64\n",
      "Y             878049 non-null float64\n",
      "dtypes: datetime64[ns](1), float64(2), object(6)\n",
      "memory usage: 60.3+ MB\n"
     ]
    }
   ],
   "source": [
    "print('Number of Categories: ', train_df.Category.nunique())\n",
    "print('Number of PdDistricts: ', train_df.PdDistrict.nunique())\n",
    "print('Number of DayOfWeeks: ', train_df.DayOfWeek.nunique())\n",
    "print('_________________________________________________')\n",
    "# Show some useful Information\n",
    "train_df.info()"
   ]
  },
  {
   "cell_type": "code",
   "execution_count": 6,
   "metadata": {},
   "outputs": [
    {
     "data": {
      "text/html": [
       "<div>\n",
       "<style scoped>\n",
       "    .dataframe tbody tr th:only-of-type {\n",
       "        vertical-align: middle;\n",
       "    }\n",
       "\n",
       "    .dataframe tbody tr th {\n",
       "        vertical-align: top;\n",
       "    }\n",
       "\n",
       "    .dataframe thead th {\n",
       "        text-align: right;\n",
       "    }\n",
       "</style>\n",
       "<table border=\"1\" class=\"dataframe\">\n",
       "  <thead>\n",
       "    <tr style=\"text-align: right;\">\n",
       "      <th></th>\n",
       "      <th>Dates</th>\n",
       "      <th>Category</th>\n",
       "      <th>Descript</th>\n",
       "      <th>DayOfWeek</th>\n",
       "      <th>PdDistrict</th>\n",
       "      <th>Address</th>\n",
       "      <th>X</th>\n",
       "      <th>Y</th>\n",
       "    </tr>\n",
       "  </thead>\n",
       "  <tbody>\n",
       "    <tr>\n",
       "      <th>306571</th>\n",
       "      <td>2011-02-23 20:47:00</td>\n",
       "      <td>ASSAULT</td>\n",
       "      <td>AGGRAVATED ASSAULT WITH BODILY FORCE</td>\n",
       "      <td>Wednesday</td>\n",
       "      <td>MISSION</td>\n",
       "      <td>1200 Block of POTRERO AV</td>\n",
       "      <td>-122.406208</td>\n",
       "      <td>37.752357</td>\n",
       "    </tr>\n",
       "  </tbody>\n",
       "</table>\n",
       "</div>"
      ],
      "text/plain": [
       "                     Dates Category                              Descript  \\\n",
       "306571 2011-02-23 20:47:00  ASSAULT  AGGRAVATED ASSAULT WITH BODILY FORCE   \n",
       "\n",
       "        DayOfWeek PdDistrict                   Address           X          Y  \n",
       "306571  Wednesday    MISSION  1200 Block of POTRERO AV -122.406208  37.752357  "
      ]
     },
     "execution_count": 6,
     "metadata": {},
     "output_type": "execute_result"
    }
   ],
   "source": [
    "train_df = train_df.drop('Resolution', axis=1)\n",
    "train_df.sample(1)"
   ]
  },
  {
   "cell_type": "code",
   "execution_count": 7,
   "metadata": {},
   "outputs": [],
   "source": [
    "train_df.drop_duplicates(inplace=True)\n",
    "train_df.replace({'X': -120.5, 'Y': 90.0}, np.NaN, inplace=True)\n",
    "test_df.replace({'X': -120.5, 'Y': 90.0}, np.NaN, inplace=True)\n",
    "train_df.dropna(inplace=True)"
   ]
  },
  {
   "cell_type": "code",
   "execution_count": 8,
   "metadata": {},
   "outputs": [
    {
     "data": {
      "text/html": [
       "<div>\n",
       "<style scoped>\n",
       "    .dataframe tbody tr th:only-of-type {\n",
       "        vertical-align: middle;\n",
       "    }\n",
       "\n",
       "    .dataframe tbody tr th {\n",
       "        vertical-align: top;\n",
       "    }\n",
       "\n",
       "    .dataframe thead th {\n",
       "        text-align: right;\n",
       "    }\n",
       "</style>\n",
       "<table border=\"1\" class=\"dataframe\">\n",
       "  <thead>\n",
       "    <tr style=\"text-align: right;\">\n",
       "      <th></th>\n",
       "      <th>Category</th>\n",
       "      <th>Descript</th>\n",
       "      <th>DayOfWeek</th>\n",
       "      <th>PdDistrict</th>\n",
       "      <th>Address</th>\n",
       "      <th>X</th>\n",
       "      <th>Y</th>\n",
       "      <th>Date</th>\n",
       "    </tr>\n",
       "  </thead>\n",
       "  <tbody>\n",
       "    <tr>\n",
       "      <th>864462</th>\n",
       "      <td>VANDALISM</td>\n",
       "      <td>MALICIOUS MISCHIEF, VANDALISM OF VEHICLES</td>\n",
       "      <td>Friday</td>\n",
       "      <td>TARAVAL</td>\n",
       "      <td>SLOAT BL / JUNIPERO SERRA BL</td>\n",
       "      <td>-122.471569</td>\n",
       "      <td>37.734705</td>\n",
       "      <td>2003-03-07 07:45:00</td>\n",
       "    </tr>\n",
       "  </tbody>\n",
       "</table>\n",
       "</div>"
      ],
      "text/plain": [
       "         Category                                   Descript DayOfWeek  \\\n",
       "864462  VANDALISM  MALICIOUS MISCHIEF, VANDALISM OF VEHICLES    Friday   \n",
       "\n",
       "       PdDistrict                       Address           X          Y  \\\n",
       "864462    TARAVAL  SLOAT BL / JUNIPERO SERRA BL -122.471569  37.734705   \n",
       "\n",
       "                      Date  \n",
       "864462 2003-03-07 07:45:00  "
      ]
     },
     "execution_count": 8,
     "metadata": {},
     "output_type": "execute_result"
    }
   ],
   "source": [
    "train_df['Date'] = pd.to_datetime(train_df.Dates)\n",
    "test_df['Date'] = pd.to_datetime(test_df.Dates)\n",
    "\n",
    "train_df = train_df.drop('Dates', axis=1)\n",
    "test_df = test_df.drop('Dates', axis=1)\n",
    "train_df.sample(1)"
   ]
  },
  {
   "cell_type": "code",
   "execution_count": 9,
   "metadata": {},
   "outputs": [
    {
     "data": {
      "text/plain": [
       "dtype('<M8[ns]')"
      ]
     },
     "execution_count": 9,
     "metadata": {},
     "output_type": "execute_result"
    }
   ],
   "source": [
    "# Confirm that it was parsed to Datetime\n",
    "train_df.Date.dtype"
   ]
  },
  {
   "cell_type": "code",
   "execution_count": 10,
   "metadata": {},
   "outputs": [
    {
     "data": {
      "text/html": [
       "<div>\n",
       "<style scoped>\n",
       "    .dataframe tbody tr th:only-of-type {\n",
       "        vertical-align: middle;\n",
       "    }\n",
       "\n",
       "    .dataframe tbody tr th {\n",
       "        vertical-align: top;\n",
       "    }\n",
       "\n",
       "    .dataframe thead th {\n",
       "        text-align: right;\n",
       "    }\n",
       "</style>\n",
       "<table border=\"1\" class=\"dataframe\">\n",
       "  <thead>\n",
       "    <tr style=\"text-align: right;\">\n",
       "      <th></th>\n",
       "      <th>Category</th>\n",
       "      <th>Descript</th>\n",
       "      <th>DayOfWeek</th>\n",
       "      <th>PdDistrict</th>\n",
       "      <th>Address</th>\n",
       "      <th>X</th>\n",
       "      <th>Y</th>\n",
       "      <th>Date</th>\n",
       "      <th>IsDay</th>\n",
       "    </tr>\n",
       "  </thead>\n",
       "  <tbody>\n",
       "    <tr>\n",
       "      <th>306272</th>\n",
       "      <td>LARCENY/THEFT</td>\n",
       "      <td>GRAND THEFT FROM LOCKED AUTO</td>\n",
       "      <td>Thursday</td>\n",
       "      <td>CENTRAL</td>\n",
       "      <td>1300 Block of BATTERY ST</td>\n",
       "      <td>-122.402005</td>\n",
       "      <td>37.803687</td>\n",
       "      <td>2011-02-24 19:15:00</td>\n",
       "      <td>1</td>\n",
       "    </tr>\n",
       "    <tr>\n",
       "      <th>119556</th>\n",
       "      <td>RUNAWAY</td>\n",
       "      <td>RUNAWAY</td>\n",
       "      <td>Saturday</td>\n",
       "      <td>TARAVAL</td>\n",
       "      <td>0 Block of FARALLONES ST</td>\n",
       "      <td>-122.454154</td>\n",
       "      <td>37.714035</td>\n",
       "      <td>2013-10-05 10:45:00</td>\n",
       "      <td>1</td>\n",
       "    </tr>\n",
       "    <tr>\n",
       "      <th>293318</th>\n",
       "      <td>FRAUD</td>\n",
       "      <td>CREDIT CARD, THEFT BY USE OF</td>\n",
       "      <td>Friday</td>\n",
       "      <td>CENTRAL</td>\n",
       "      <td>PINE ST / MONTGOMERY ST</td>\n",
       "      <td>-122.402574</td>\n",
       "      <td>37.791898</td>\n",
       "      <td>2011-05-06 14:00:00</td>\n",
       "      <td>1</td>\n",
       "    </tr>\n",
       "  </tbody>\n",
       "</table>\n",
       "</div>"
      ],
      "text/plain": [
       "             Category                      Descript DayOfWeek PdDistrict  \\\n",
       "306272  LARCENY/THEFT  GRAND THEFT FROM LOCKED AUTO  Thursday    CENTRAL   \n",
       "119556        RUNAWAY                       RUNAWAY  Saturday    TARAVAL   \n",
       "293318          FRAUD  CREDIT CARD, THEFT BY USE OF    Friday    CENTRAL   \n",
       "\n",
       "                         Address           X          Y                Date  \\\n",
       "306272  1300 Block of BATTERY ST -122.402005  37.803687 2011-02-24 19:15:00   \n",
       "119556  0 Block of FARALLONES ST -122.454154  37.714035 2013-10-05 10:45:00   \n",
       "293318   PINE ST / MONTGOMERY ST -122.402574  37.791898 2011-05-06 14:00:00   \n",
       "\n",
       "        IsDay  \n",
       "306272      1  \n",
       "119556      1  \n",
       "293318      1  "
      ]
     },
     "execution_count": 10,
     "metadata": {},
     "output_type": "execute_result"
    }
   ],
   "source": [
    "train_df['IsDay'] = 0\n",
    "train_df.loc[ (train_df.Date.dt.hour > 6) & (train_df.Date.dt.hour < 20), 'IsDay' ] = 1\n",
    "test_df['IsDay'] = 0\n",
    "test_df.loc[ (test_df.Date.dt.hour > 6) & (test_df.Date.dt.hour < 20), 'IsDay' ] = 1\n",
    "\n",
    "train_df.sample(3)"
   ]
  },
  {
   "cell_type": "code",
   "execution_count": 11,
   "metadata": {},
   "outputs": [
    {
     "data": {
      "text/plain": [
       "array([3, 2, 1, 7, 6, 5, 4])"
      ]
     },
     "execution_count": 11,
     "metadata": {},
     "output_type": "execute_result"
    }
   ],
   "source": [
    "days_to_int_dic = {\n",
    "        'Monday': 1,\n",
    "        'Tuesday': 2,\n",
    "        'Wednesday': 3,\n",
    "        'Thursday': 4,\n",
    "        'Friday': 5,\n",
    "        'Saturday': 6,\n",
    "        'Sunday': 7,\n",
    "}\n",
    "train_df['DayOfWeek'] = train_df['DayOfWeek'].map(days_to_int_dic)\n",
    "test_df ['DayOfWeek'] = test_df ['DayOfWeek'].map(days_to_int_dic)\n",
    "\n",
    "train_df.DayOfWeek.unique()"
   ]
  },
  {
   "cell_type": "code",
   "execution_count": 12,
   "metadata": {},
   "outputs": [
    {
     "data": {
      "text/html": [
       "<div>\n",
       "<style scoped>\n",
       "    .dataframe tbody tr th:only-of-type {\n",
       "        vertical-align: middle;\n",
       "    }\n",
       "\n",
       "    .dataframe tbody tr th {\n",
       "        vertical-align: top;\n",
       "    }\n",
       "\n",
       "    .dataframe thead th {\n",
       "        text-align: right;\n",
       "    }\n",
       "</style>\n",
       "<table border=\"1\" class=\"dataframe\">\n",
       "  <thead>\n",
       "    <tr style=\"text-align: right;\">\n",
       "      <th></th>\n",
       "      <th>Category</th>\n",
       "      <th>Descript</th>\n",
       "      <th>DayOfWeek</th>\n",
       "      <th>PdDistrict</th>\n",
       "      <th>Address</th>\n",
       "      <th>X</th>\n",
       "      <th>Y</th>\n",
       "      <th>Date</th>\n",
       "      <th>IsDay</th>\n",
       "      <th>Hour</th>\n",
       "      <th>Month</th>\n",
       "      <th>Year</th>\n",
       "    </tr>\n",
       "  </thead>\n",
       "  <tbody>\n",
       "    <tr>\n",
       "      <th>493016</th>\n",
       "      <td>DRUG/NARCOTIC</td>\n",
       "      <td>POSSESSION OF MARIJUANA</td>\n",
       "      <td>6</td>\n",
       "      <td>SOUTHERN</td>\n",
       "      <td>MARKET ST / JONES ST</td>\n",
       "      <td>-122.411979</td>\n",
       "      <td>37.780904</td>\n",
       "      <td>2008-05-31 20:33:00</td>\n",
       "      <td>0</td>\n",
       "      <td>20</td>\n",
       "      <td>5</td>\n",
       "      <td>8</td>\n",
       "    </tr>\n",
       "  </tbody>\n",
       "</table>\n",
       "</div>"
      ],
      "text/plain": [
       "             Category                 Descript  DayOfWeek PdDistrict  \\\n",
       "493016  DRUG/NARCOTIC  POSSESSION OF MARIJUANA          6   SOUTHERN   \n",
       "\n",
       "                     Address           X          Y                Date  \\\n",
       "493016  MARKET ST / JONES ST -122.411979  37.780904 2008-05-31 20:33:00   \n",
       "\n",
       "        IsDay  Hour  Month  Year  \n",
       "493016      0    20      5     8  "
      ]
     },
     "execution_count": 12,
     "metadata": {},
     "output_type": "execute_result"
    }
   ],
   "source": [
    "train_df['Hour'] = train_df.Date.dt.hour\n",
    "train_df['Month'] = train_df.Date.dt.month\n",
    "train_df['Year'] = train_df.Date.dt.year\n",
    "train_df['Year'] = train_df['Year'] - 2000 \n",
    "\n",
    "test_df['Hour'] = test_df.Date.dt.hour\n",
    "test_df['Month'] = test_df.Date.dt.month\n",
    "test_df['Year'] = test_df.Date.dt.year\n",
    "test_df['Year'] = test_df['Year'] - 2000\n",
    "\n",
    "train_df.sample(1)"
   ]
  },
  {
   "cell_type": "code",
   "execution_count": 13,
   "metadata": {},
   "outputs": [
    {
     "data": {
      "text/html": [
       "<div>\n",
       "<style scoped>\n",
       "    .dataframe tbody tr th:only-of-type {\n",
       "        vertical-align: middle;\n",
       "    }\n",
       "\n",
       "    .dataframe tbody tr th {\n",
       "        vertical-align: top;\n",
       "    }\n",
       "\n",
       "    .dataframe thead th {\n",
       "        text-align: right;\n",
       "    }\n",
       "</style>\n",
       "<table border=\"1\" class=\"dataframe\">\n",
       "  <thead>\n",
       "    <tr style=\"text-align: right;\">\n",
       "      <th></th>\n",
       "      <th>Category</th>\n",
       "      <th>Descript</th>\n",
       "      <th>DayOfWeek</th>\n",
       "      <th>Address</th>\n",
       "      <th>X</th>\n",
       "      <th>Y</th>\n",
       "      <th>Date</th>\n",
       "      <th>IsDay</th>\n",
       "      <th>Hour</th>\n",
       "      <th>Month</th>\n",
       "      <th>...</th>\n",
       "      <th>PdDistrict_BAYVIEW</th>\n",
       "      <th>PdDistrict_CENTRAL</th>\n",
       "      <th>PdDistrict_INGLESIDE</th>\n",
       "      <th>PdDistrict_MISSION</th>\n",
       "      <th>PdDistrict_NORTHERN</th>\n",
       "      <th>PdDistrict_PARK</th>\n",
       "      <th>PdDistrict_RICHMOND</th>\n",
       "      <th>PdDistrict_SOUTHERN</th>\n",
       "      <th>PdDistrict_TARAVAL</th>\n",
       "      <th>PdDistrict_TENDERLOIN</th>\n",
       "    </tr>\n",
       "  </thead>\n",
       "  <tbody>\n",
       "    <tr>\n",
       "      <th>656355</th>\n",
       "      <td>DRUG/NARCOTIC</td>\n",
       "      <td>POSSESSION OF NARCOTICS PARAPHERNALIA</td>\n",
       "      <td>1</td>\n",
       "      <td>CLEMENT ST / 22ND AV</td>\n",
       "      <td>-122.481662</td>\n",
       "      <td>37.782160</td>\n",
       "      <td>2006-01-23 17:26:00</td>\n",
       "      <td>1</td>\n",
       "      <td>17</td>\n",
       "      <td>1</td>\n",
       "      <td>...</td>\n",
       "      <td>0</td>\n",
       "      <td>0</td>\n",
       "      <td>0</td>\n",
       "      <td>0</td>\n",
       "      <td>0</td>\n",
       "      <td>0</td>\n",
       "      <td>1</td>\n",
       "      <td>0</td>\n",
       "      <td>0</td>\n",
       "      <td>0</td>\n",
       "    </tr>\n",
       "    <tr>\n",
       "      <th>720024</th>\n",
       "      <td>VEHICLE THEFT</td>\n",
       "      <td>STOLEN AUTOMOBILE</td>\n",
       "      <td>7</td>\n",
       "      <td>CONNECTICUT ST / CESAR CHAVEZ ST</td>\n",
       "      <td>-122.396278</td>\n",
       "      <td>37.749747</td>\n",
       "      <td>2005-02-27 08:00:00</td>\n",
       "      <td>1</td>\n",
       "      <td>8</td>\n",
       "      <td>2</td>\n",
       "      <td>...</td>\n",
       "      <td>1</td>\n",
       "      <td>0</td>\n",
       "      <td>0</td>\n",
       "      <td>0</td>\n",
       "      <td>0</td>\n",
       "      <td>0</td>\n",
       "      <td>0</td>\n",
       "      <td>0</td>\n",
       "      <td>0</td>\n",
       "      <td>0</td>\n",
       "    </tr>\n",
       "  </tbody>\n",
       "</table>\n",
       "<p>2 rows × 21 columns</p>\n",
       "</div>"
      ],
      "text/plain": [
       "             Category                               Descript  DayOfWeek  \\\n",
       "656355  DRUG/NARCOTIC  POSSESSION OF NARCOTICS PARAPHERNALIA          1   \n",
       "720024  VEHICLE THEFT                      STOLEN AUTOMOBILE          7   \n",
       "\n",
       "                                 Address           X          Y  \\\n",
       "656355              CLEMENT ST / 22ND AV -122.481662  37.782160   \n",
       "720024  CONNECTICUT ST / CESAR CHAVEZ ST -122.396278  37.749747   \n",
       "\n",
       "                      Date  IsDay  Hour  Month  ...  PdDistrict_BAYVIEW  \\\n",
       "656355 2006-01-23 17:26:00      1    17      1  ...                   0   \n",
       "720024 2005-02-27 08:00:00      1     8      2  ...                   1   \n",
       "\n",
       "        PdDistrict_CENTRAL  PdDistrict_INGLESIDE  PdDistrict_MISSION  \\\n",
       "656355                   0                     0                   0   \n",
       "720024                   0                     0                   0   \n",
       "\n",
       "        PdDistrict_NORTHERN  PdDistrict_PARK  PdDistrict_RICHMOND  \\\n",
       "656355                    0                0                    1   \n",
       "720024                    0                0                    0   \n",
       "\n",
       "        PdDistrict_SOUTHERN  PdDistrict_TARAVAL  PdDistrict_TENDERLOIN  \n",
       "656355                    0                   0                      0  \n",
       "720024                    0                   0                      0  \n",
       "\n",
       "[2 rows x 21 columns]"
      ]
     },
     "execution_count": 13,
     "metadata": {},
     "output_type": "execute_result"
    }
   ],
   "source": [
    "train_df = pd.get_dummies(train_df, columns=['PdDistrict'])\n",
    "test_df  = pd.get_dummies(test_df,  columns=['PdDistrict'])\n",
    "train_df.sample(2)"
   ]
  },
  {
   "cell_type": "code",
   "execution_count": 14,
   "metadata": {},
   "outputs": [
    {
     "data": {
      "text/html": [
       "<div>\n",
       "<style scoped>\n",
       "    .dataframe tbody tr th:only-of-type {\n",
       "        vertical-align: middle;\n",
       "    }\n",
       "\n",
       "    .dataframe tbody tr th {\n",
       "        vertical-align: top;\n",
       "    }\n",
       "\n",
       "    .dataframe thead th {\n",
       "        text-align: right;\n",
       "    }\n",
       "</style>\n",
       "<table border=\"1\" class=\"dataframe\">\n",
       "  <thead>\n",
       "    <tr style=\"text-align: right;\">\n",
       "      <th></th>\n",
       "      <th>Category</th>\n",
       "      <th>Descript</th>\n",
       "      <th>DayOfWeek</th>\n",
       "      <th>Address</th>\n",
       "      <th>X</th>\n",
       "      <th>Y</th>\n",
       "      <th>Date</th>\n",
       "      <th>IsDay</th>\n",
       "      <th>Hour</th>\n",
       "      <th>Month</th>\n",
       "      <th>...</th>\n",
       "      <th>PdDistrict_CENTRAL</th>\n",
       "      <th>PdDistrict_INGLESIDE</th>\n",
       "      <th>PdDistrict_MISSION</th>\n",
       "      <th>PdDistrict_NORTHERN</th>\n",
       "      <th>PdDistrict_PARK</th>\n",
       "      <th>PdDistrict_RICHMOND</th>\n",
       "      <th>PdDistrict_SOUTHERN</th>\n",
       "      <th>PdDistrict_TARAVAL</th>\n",
       "      <th>PdDistrict_TENDERLOIN</th>\n",
       "      <th>CategoryInt</th>\n",
       "    </tr>\n",
       "  </thead>\n",
       "  <tbody>\n",
       "    <tr>\n",
       "      <th>711952</th>\n",
       "      <td>NON-CRIMINAL</td>\n",
       "      <td>LOST PROPERTY</td>\n",
       "      <td>6</td>\n",
       "      <td>0 Block of HEYMAN ST</td>\n",
       "      <td>-122.420283</td>\n",
       "      <td>37.741963</td>\n",
       "      <td>2005-04-09 21:00:00</td>\n",
       "      <td>0</td>\n",
       "      <td>21</td>\n",
       "      <td>4</td>\n",
       "      <td>...</td>\n",
       "      <td>0</td>\n",
       "      <td>1</td>\n",
       "      <td>0</td>\n",
       "      <td>0</td>\n",
       "      <td>0</td>\n",
       "      <td>0</td>\n",
       "      <td>0</td>\n",
       "      <td>0</td>\n",
       "      <td>0</td>\n",
       "      <td>20</td>\n",
       "    </tr>\n",
       "    <tr>\n",
       "      <th>392448</th>\n",
       "      <td>NON-CRIMINAL</td>\n",
       "      <td>AIDED CASE, MENTAL DISTURBED</td>\n",
       "      <td>1</td>\n",
       "      <td>500 Block of SOUTH VAN NESS AV</td>\n",
       "      <td>-122.417477</td>\n",
       "      <td>37.764358</td>\n",
       "      <td>2009-11-09 01:13:00</td>\n",
       "      <td>0</td>\n",
       "      <td>1</td>\n",
       "      <td>11</td>\n",
       "      <td>...</td>\n",
       "      <td>0</td>\n",
       "      <td>0</td>\n",
       "      <td>1</td>\n",
       "      <td>0</td>\n",
       "      <td>0</td>\n",
       "      <td>0</td>\n",
       "      <td>0</td>\n",
       "      <td>0</td>\n",
       "      <td>0</td>\n",
       "      <td>20</td>\n",
       "    </tr>\n",
       "    <tr>\n",
       "      <th>473873</th>\n",
       "      <td>TRESPASS</td>\n",
       "      <td>TRESPASSING</td>\n",
       "      <td>7</td>\n",
       "      <td>0 Block of LEAVENWORTH ST</td>\n",
       "      <td>-122.413844</td>\n",
       "      <td>37.781410</td>\n",
       "      <td>2008-09-07 08:30:00</td>\n",
       "      <td>1</td>\n",
       "      <td>8</td>\n",
       "      <td>9</td>\n",
       "      <td>...</td>\n",
       "      <td>0</td>\n",
       "      <td>0</td>\n",
       "      <td>0</td>\n",
       "      <td>0</td>\n",
       "      <td>0</td>\n",
       "      <td>0</td>\n",
       "      <td>0</td>\n",
       "      <td>0</td>\n",
       "      <td>1</td>\n",
       "      <td>34</td>\n",
       "    </tr>\n",
       "    <tr>\n",
       "      <th>243088</th>\n",
       "      <td>RECOVERED VEHICLE</td>\n",
       "      <td>RECOVERED VEHICLE - STOLEN OUTSIDE SF</td>\n",
       "      <td>2</td>\n",
       "      <td>3100 Block of SAN JOSE AV</td>\n",
       "      <td>-122.457903</td>\n",
       "      <td>37.709234</td>\n",
       "      <td>2012-02-07 17:00:00</td>\n",
       "      <td>1</td>\n",
       "      <td>17</td>\n",
       "      <td>2</td>\n",
       "      <td>...</td>\n",
       "      <td>0</td>\n",
       "      <td>0</td>\n",
       "      <td>0</td>\n",
       "      <td>0</td>\n",
       "      <td>0</td>\n",
       "      <td>0</td>\n",
       "      <td>0</td>\n",
       "      <td>1</td>\n",
       "      <td>0</td>\n",
       "      <td>24</td>\n",
       "    </tr>\n",
       "    <tr>\n",
       "      <th>254971</th>\n",
       "      <td>ROBBERY</td>\n",
       "      <td>ROBBERY, BODILY FORCE</td>\n",
       "      <td>6</td>\n",
       "      <td>19TH AV / BUCKINGHAM WY</td>\n",
       "      <td>-122.474961</td>\n",
       "      <td>37.725690</td>\n",
       "      <td>2011-12-03 10:30:00</td>\n",
       "      <td>1</td>\n",
       "      <td>10</td>\n",
       "      <td>12</td>\n",
       "      <td>...</td>\n",
       "      <td>0</td>\n",
       "      <td>0</td>\n",
       "      <td>0</td>\n",
       "      <td>0</td>\n",
       "      <td>0</td>\n",
       "      <td>0</td>\n",
       "      <td>0</td>\n",
       "      <td>1</td>\n",
       "      <td>0</td>\n",
       "      <td>25</td>\n",
       "    </tr>\n",
       "  </tbody>\n",
       "</table>\n",
       "<p>5 rows × 22 columns</p>\n",
       "</div>"
      ],
      "text/plain": [
       "                 Category                               Descript  DayOfWeek  \\\n",
       "711952       NON-CRIMINAL                          LOST PROPERTY          6   \n",
       "392448       NON-CRIMINAL           AIDED CASE, MENTAL DISTURBED          1   \n",
       "473873           TRESPASS                            TRESPASSING          7   \n",
       "243088  RECOVERED VEHICLE  RECOVERED VEHICLE - STOLEN OUTSIDE SF          2   \n",
       "254971            ROBBERY                  ROBBERY, BODILY FORCE          6   \n",
       "\n",
       "                               Address           X          Y  \\\n",
       "711952            0 Block of HEYMAN ST -122.420283  37.741963   \n",
       "392448  500 Block of SOUTH VAN NESS AV -122.417477  37.764358   \n",
       "473873       0 Block of LEAVENWORTH ST -122.413844  37.781410   \n",
       "243088       3100 Block of SAN JOSE AV -122.457903  37.709234   \n",
       "254971         19TH AV / BUCKINGHAM WY -122.474961  37.725690   \n",
       "\n",
       "                      Date  IsDay  Hour  Month  ...  PdDistrict_CENTRAL  \\\n",
       "711952 2005-04-09 21:00:00      0    21      4  ...                   0   \n",
       "392448 2009-11-09 01:13:00      0     1     11  ...                   0   \n",
       "473873 2008-09-07 08:30:00      1     8      9  ...                   0   \n",
       "243088 2012-02-07 17:00:00      1    17      2  ...                   0   \n",
       "254971 2011-12-03 10:30:00      1    10     12  ...                   0   \n",
       "\n",
       "        PdDistrict_INGLESIDE  PdDistrict_MISSION  PdDistrict_NORTHERN  \\\n",
       "711952                     1                   0                    0   \n",
       "392448                     0                   1                    0   \n",
       "473873                     0                   0                    0   \n",
       "243088                     0                   0                    0   \n",
       "254971                     0                   0                    0   \n",
       "\n",
       "        PdDistrict_PARK  PdDistrict_RICHMOND  PdDistrict_SOUTHERN  \\\n",
       "711952                0                    0                    0   \n",
       "392448                0                    0                    0   \n",
       "473873                0                    0                    0   \n",
       "243088                0                    0                    0   \n",
       "254971                0                    0                    0   \n",
       "\n",
       "        PdDistrict_TARAVAL  PdDistrict_TENDERLOIN  CategoryInt  \n",
       "711952                   0                      0           20  \n",
       "392448                   0                      0           20  \n",
       "473873                   0                      1           34  \n",
       "243088                   1                      0           24  \n",
       "254971                   1                      0           25  \n",
       "\n",
       "[5 rows x 22 columns]"
      ]
     },
     "execution_count": 14,
     "metadata": {},
     "output_type": "execute_result"
    }
   ],
   "source": [
    "from sklearn.preprocessing import LabelEncoder\n",
    "\n",
    "le = LabelEncoder()\n",
    "# train_df['CategoryInt'] = pd.Series(le.fit_transform(train_df.Category))\n",
    "train_df['CategoryInt'] = le.fit_transform(train_df.Category)\n",
    "train_df.sample(5)\n",
    "#le.classes_"
   ]
  },
  {
   "cell_type": "code",
   "execution_count": 15,
   "metadata": {},
   "outputs": [
    {
     "data": {
      "text/plain": [
       "717805     1\n",
       "70795     20\n",
       "788451    21\n",
       "611171    19\n",
       "370106    16\n",
       "280192    16\n",
       "183258    38\n",
       "282282    28\n",
       "796479    20\n",
       "188904    16\n",
       "Name: CategoryInt, dtype: int64"
      ]
     },
     "execution_count": 15,
     "metadata": {},
     "output_type": "execute_result"
    }
   ],
   "source": [
    "train_df['CategoryInt'].sample(10)"
   ]
  },
  {
   "cell_type": "code",
   "execution_count": 16,
   "metadata": {},
   "outputs": [],
   "source": [
    "train_df['InIntersection'] = 1\n",
    "train_df.loc[train_df.Address.str.contains('Block'), 'InIntersection'] = 0\n",
    "\n",
    "test_df['InIntersection'] = 1\n",
    "test_df.loc[test_df.Address.str.contains('Block'), 'InIntersection'] = 0"
   ]
  },
  {
   "cell_type": "code",
   "execution_count": 17,
   "metadata": {},
   "outputs": [
    {
     "data": {
      "text/html": [
       "<div>\n",
       "<style scoped>\n",
       "    .dataframe tbody tr th:only-of-type {\n",
       "        vertical-align: middle;\n",
       "    }\n",
       "\n",
       "    .dataframe tbody tr th {\n",
       "        vertical-align: top;\n",
       "    }\n",
       "\n",
       "    .dataframe thead th {\n",
       "        text-align: right;\n",
       "    }\n",
       "</style>\n",
       "<table border=\"1\" class=\"dataframe\">\n",
       "  <thead>\n",
       "    <tr style=\"text-align: right;\">\n",
       "      <th></th>\n",
       "      <th>Category</th>\n",
       "      <th>Descript</th>\n",
       "      <th>DayOfWeek</th>\n",
       "      <th>Address</th>\n",
       "      <th>X</th>\n",
       "      <th>Y</th>\n",
       "      <th>Date</th>\n",
       "      <th>IsDay</th>\n",
       "      <th>Hour</th>\n",
       "      <th>Month</th>\n",
       "      <th>...</th>\n",
       "      <th>PdDistrict_INGLESIDE</th>\n",
       "      <th>PdDistrict_MISSION</th>\n",
       "      <th>PdDistrict_NORTHERN</th>\n",
       "      <th>PdDistrict_PARK</th>\n",
       "      <th>PdDistrict_RICHMOND</th>\n",
       "      <th>PdDistrict_SOUTHERN</th>\n",
       "      <th>PdDistrict_TARAVAL</th>\n",
       "      <th>PdDistrict_TENDERLOIN</th>\n",
       "      <th>CategoryInt</th>\n",
       "      <th>InIntersection</th>\n",
       "    </tr>\n",
       "  </thead>\n",
       "  <tbody>\n",
       "    <tr>\n",
       "      <th>600037</th>\n",
       "      <td>MISSING PERSON</td>\n",
       "      <td>MISSING JUVENILE</td>\n",
       "      <td>7</td>\n",
       "      <td>0 Block of PATTON ST</td>\n",
       "      <td>-122.423139</td>\n",
       "      <td>37.737901</td>\n",
       "      <td>2006-11-05 17:00:00</td>\n",
       "      <td>1</td>\n",
       "      <td>17</td>\n",
       "      <td>11</td>\n",
       "      <td>...</td>\n",
       "      <td>1</td>\n",
       "      <td>0</td>\n",
       "      <td>0</td>\n",
       "      <td>0</td>\n",
       "      <td>0</td>\n",
       "      <td>0</td>\n",
       "      <td>0</td>\n",
       "      <td>0</td>\n",
       "      <td>19</td>\n",
       "      <td>0</td>\n",
       "    </tr>\n",
       "    <tr>\n",
       "      <th>37745</th>\n",
       "      <td>SUSPICIOUS OCC</td>\n",
       "      <td>INVESTIGATIVE DETENTION</td>\n",
       "      <td>3</td>\n",
       "      <td>1200 Block of GIRARD ST</td>\n",
       "      <td>-122.400430</td>\n",
       "      <td>37.717146</td>\n",
       "      <td>2014-11-12 06:05:00</td>\n",
       "      <td>0</td>\n",
       "      <td>6</td>\n",
       "      <td>11</td>\n",
       "      <td>...</td>\n",
       "      <td>1</td>\n",
       "      <td>0</td>\n",
       "      <td>0</td>\n",
       "      <td>0</td>\n",
       "      <td>0</td>\n",
       "      <td>0</td>\n",
       "      <td>0</td>\n",
       "      <td>0</td>\n",
       "      <td>32</td>\n",
       "      <td>0</td>\n",
       "    </tr>\n",
       "  </tbody>\n",
       "</table>\n",
       "<p>2 rows × 23 columns</p>\n",
       "</div>"
      ],
      "text/plain": [
       "              Category                 Descript  DayOfWeek  \\\n",
       "600037  MISSING PERSON         MISSING JUVENILE          7   \n",
       "37745   SUSPICIOUS OCC  INVESTIGATIVE DETENTION          3   \n",
       "\n",
       "                        Address           X          Y                Date  \\\n",
       "600037     0 Block of PATTON ST -122.423139  37.737901 2006-11-05 17:00:00   \n",
       "37745   1200 Block of GIRARD ST -122.400430  37.717146 2014-11-12 06:05:00   \n",
       "\n",
       "        IsDay  Hour  Month  ...  PdDistrict_INGLESIDE  PdDistrict_MISSION  \\\n",
       "600037      1    17     11  ...                     1                   0   \n",
       "37745       0     6     11  ...                     1                   0   \n",
       "\n",
       "        PdDistrict_NORTHERN  PdDistrict_PARK  PdDistrict_RICHMOND  \\\n",
       "600037                    0                0                    0   \n",
       "37745                     0                0                    0   \n",
       "\n",
       "        PdDistrict_SOUTHERN  PdDistrict_TARAVAL  PdDistrict_TENDERLOIN  \\\n",
       "600037                    0                   0                      0   \n",
       "37745                     0                   0                      0   \n",
       "\n",
       "        CategoryInt  InIntersection  \n",
       "600037           19               0  \n",
       "37745            32               0  \n",
       "\n",
       "[2 rows x 23 columns]"
      ]
     },
     "execution_count": 17,
     "metadata": {},
     "output_type": "execute_result"
    }
   ],
   "source": [
    "train_df.sample(2)"
   ]
  },
  {
   "cell_type": "code",
   "execution_count": 18,
   "metadata": {},
   "outputs": [
    {
     "data": {
      "text/plain": [
       "Index(['Category', 'Descript', 'DayOfWeek', 'Address', 'X', 'Y', 'Date',\n",
       "       'IsDay', 'Hour', 'Month', 'Year', 'PdDistrict_BAYVIEW',\n",
       "       'PdDistrict_CENTRAL', 'PdDistrict_INGLESIDE', 'PdDistrict_MISSION',\n",
       "       'PdDistrict_NORTHERN', 'PdDistrict_PARK', 'PdDistrict_RICHMOND',\n",
       "       'PdDistrict_SOUTHERN', 'PdDistrict_TARAVAL', 'PdDistrict_TENDERLOIN',\n",
       "       'CategoryInt', 'InIntersection'],\n",
       "      dtype='object')"
      ]
     },
     "execution_count": 18,
     "metadata": {},
     "output_type": "execute_result"
    }
   ],
   "source": [
    "train_df.columns"
   ]
  },
  {
   "cell_type": "code",
   "execution_count": 19,
   "metadata": {},
   "outputs": [],
   "source": [
    "feature_cols = ['X', 'Y', 'IsDay', 'DayOfWeek', 'Month', 'Hour', 'Year', 'InIntersection',\n",
    "                'PdDistrict_BAYVIEW', 'PdDistrict_CENTRAL', 'PdDistrict_INGLESIDE',\n",
    "                'PdDistrict_MISSION', 'PdDistrict_NORTHERN', 'PdDistrict_PARK',\n",
    "                'PdDistrict_RICHMOND', 'PdDistrict_SOUTHERN', 'PdDistrict_TARAVAL', 'PdDistrict_TENDERLOIN']\n",
    "target_col = 'CategoryInt'\n",
    "\n",
    "train_x = train_df[feature_cols]\n",
    "train_y = train_df[target_col]\n",
    "\n",
    "from sklearn.model_selection import train_test_split\n",
    "X_train, X_test, f_train, f_test = train_test_split(train_x, train_y, test_size=0.3)\n",
    "# test_x = test_df[feature_cols]\n",
    "test_ids = X_test.index.values"
   ]
  },
  {
   "cell_type": "code",
   "execution_count": 20,
   "metadata": {},
   "outputs": [
    {
     "data": {
      "text/plain": [
       "0         37\n",
       "1         21\n",
       "2         21\n",
       "3         16\n",
       "4         16\n",
       "          ..\n",
       "878044    25\n",
       "878045    16\n",
       "878046    16\n",
       "878047    35\n",
       "878048    12\n",
       "Name: CategoryInt, Length: 875363, dtype: int64"
      ]
     },
     "execution_count": 20,
     "metadata": {},
     "output_type": "execute_result"
    }
   ],
   "source": [
    "train_y"
   ]
  },
  {
   "cell_type": "code",
   "execution_count": 21,
   "metadata": {},
   "outputs": [
    {
     "data": {
      "text/plain": [
       "array([ 79179, 596806, 610086, ..., 441107, 168308, 164721])"
      ]
     },
     "execution_count": 21,
     "metadata": {},
     "output_type": "execute_result"
    }
   ],
   "source": [
    "test_ids"
   ]
  },
  {
   "cell_type": "code",
   "execution_count": 22,
   "metadata": {},
   "outputs": [
    {
     "name": "stdout",
     "output_type": "stream",
     "text": [
      "(875363, 23)\n",
      "(875363,)\n"
     ]
    }
   ],
   "source": [
    "print(train_df.shape)\n",
    "print(train_y.shape)"
   ]
  },
  {
   "cell_type": "code",
   "execution_count": 23,
   "metadata": {},
   "outputs": [],
   "source": [
    "# test_df.sample(1)"
   ]
  },
  {
   "cell_type": "code",
   "execution_count": 24,
   "metadata": {},
   "outputs": [
    {
     "name": "stderr",
     "output_type": "stream",
     "text": [
      "/opt/conda/lib/python3.6/site-packages/xgboost/core.py:587: FutureWarning: Series.base is deprecated and will be removed in a future version\n",
      "  if getattr(data, 'base', None) is not None and \\\n"
     ]
    }
   ],
   "source": [
    "import xgboost as xgb\n",
    "train_xgb = xgb.DMatrix(X_train, label=f_train)\n",
    "test_xgb  = xgb.DMatrix(X_test)"
   ]
  },
  {
   "cell_type": "code",
   "execution_count": 25,
   "metadata": {},
   "outputs": [],
   "source": [
    "params = {\n",
    "    'max_depth': 4,  # the maximum depth of each tree\n",
    "    'eta': 0.3,  # the training step for each iteration\n",
    "    'silent': 1,  # logging mode - quiet\n",
    "    'objective': 'multi:softprob',  # error evaluation for multiclass training\n",
    "    'num_class': 39,\n",
    "}"
   ]
  },
  {
   "cell_type": "code",
   "execution_count": 26,
   "metadata": {},
   "outputs": [],
   "source": [
    "CROSS_VAL = False\n",
    "if CROSS_VAL:\n",
    "    print('Doing Cross-validation ...')\n",
    "    cv = xgb.cv(params, train_xgb, nfold=3, early_stopping_rounds=10, metrics='mlogloss', verbose_eval=True)\n",
    "    cv"
   ]
  },
  {
   "cell_type": "code",
   "execution_count": 27,
   "metadata": {},
   "outputs": [],
   "source": [
    "from sklearn.metrics import log_loss"
   ]
  },
  {
   "cell_type": "code",
   "execution_count": 28,
   "metadata": {},
   "outputs": [
    {
     "name": "stdout",
     "output_type": "stream",
     "text": [
      "accuarcy: 18.37%\n"
     ]
    }
   ],
   "source": [
    "from sklearn.neighbors import KNeighborsClassifier\n",
    "neigh = KNeighborsClassifier(n_neighbors=3)\n",
    "neigh.fit(X_train, f_train)\n",
    "pred_result=neigh.predict(X_test)\n",
    "from sklearn.metrics import accuracy_score   #accuracy\n",
    "accuracy = accuracy_score(f_test,pred_result)\n",
    "print(\"accuarcy: %.2f%%\" % (accuracy*100.0))"
   ]
  },
  {
   "cell_type": "code",
   "execution_count": 29,
   "metadata": {},
   "outputs": [],
   "source": [
    "pred_result_proba=neigh.predict_proba(X_test)"
   ]
  },
  {
   "cell_type": "code",
   "execution_count": 34,
   "metadata": {},
   "outputs": [
    {
     "name": "stdout",
     "output_type": "stream",
     "text": [
      "LogLoss: 21.817373683117427\n"
     ]
    }
   ],
   "source": [
    "from sklearn.metrics import log_loss\n",
    "score = log_loss(f_test, pred_result_proba)\n",
    "print(\"LogLoss:\",score)"
   ]
  },
  {
   "cell_type": "code",
   "execution_count": 42,
   "metadata": {},
   "outputs": [],
   "source": [
    "from sklearn import metrics\n",
    "fpr, tpr, thresholds = metrics.roc_curve(f_test, pred_result, pos_label=2)"
   ]
  },
  {
   "cell_type": "code",
   "execution_count": 43,
   "metadata": {},
   "outputs": [
    {
     "data": {
      "image/png": "[encoded data removed]",
      "text/plain": [
       "<Figure size 432x288 with 1 Axes>"
      ]
     },
     "metadata": {
      "needs_background": "light"
     },
     "output_type": "display_data"
    },
    {
     "name": "stdout",
     "output_type": "stream",
     "text": [
      "AUC: 0.47898569878660013\n"
     ]
    }
   ],
   "source": [
    "plt.plot(fpr,tpr)\n",
    "plt.show()\n",
    "AUC = metrics.auc(fpr, tpr)\n",
    "print(\"AUC:\",AUC)"
   ]
  },
  {
   "cell_type": "code",
   "execution_count": 48,
   "metadata": {},
   "outputs": [
    {
     "name": "stdout",
     "output_type": "stream",
     "text": [
      "recall score: [0.03820225 0.32250369 0.00793651 0.         0.15562824 0.06912096\n",
      " 0.03021583 0.41052826 0.01908397 0.01257862 0.         0.02547771\n",
      " 0.08981657 0.06169213 0.02777778 0.03138374 0.34261524 0.03697479\n",
      " 0.08659218 0.16933761 0.10053912 0.16294388 0.         0.36032028\n",
      " 0.0043956  0.02076677 0.00175131 0.00168634 0.03196347 0.\n",
      " 0.00073099 0.00684932 0.01139962 0.         0.00686185 0.02310035\n",
      " 0.10771343 0.0213908  0.02732448]\n"
     ]
    },
    {
     "data": {
      "text/plain": [
       "(39,)"
      ]
     },
     "execution_count": 48,
     "metadata": {},
     "output_type": "execute_result"
    }
   ],
   "source": [
    "recall=metrics.recall_score(f_test, pred_result, pos_label=2,average=None)\n",
    "print(\"recall score:\",recall)"
   ]
  }
 ],
 "metadata": {
  "kernelspec": {
   "display_name": "Python 3",
   "language": "python",
   "name": "python3"
  },
  "language_info": {
   "codemirror_mode": {
    "name": "ipython",
    "version": 3
   },
   "file_extension": ".py",
   "mimetype": "text/x-python",
   "name": "python",
   "nbconvert_exporter": "python",
   "pygments_lexer": "ipython3",
   "version": "3.7.3"
  }
 },
 "nbformat": 4,
 "nbformat_minor": 1
}
